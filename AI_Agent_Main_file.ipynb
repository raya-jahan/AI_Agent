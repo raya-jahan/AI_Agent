{
 "cells": [
  {
   "cell_type": "code",
   "execution_count": 2,
   "id": "548c31b2-138f-44ef-9dd8-503ecb9e2eb5",
   "metadata": {},
   "outputs": [
    {
     "name": "stdout",
     "output_type": "stream",
     "text": [
      "3.11.9 (tags/v3.11.9:de54cf5, Apr  2 2024, 10:12:12) [MSC v.1938 64 bit (AMD64)]\n"
     ]
    }
   ],
   "source": [
    "import sys\n",
    "print(sys.version)"
   ]
  },
  {
   "cell_type": "code",
   "execution_count": 3,
   "id": "4dbe39df-fefe-49cb-8c00-e6f3b41593b4",
   "metadata": {},
   "outputs": [
    {
     "name": "stdout",
     "output_type": "stream",
     "text": [
      "Available kernels:\n",
      "  python311    C:\\Users\\priyo\\AppData\\Roaming\\jupyter\\kernels\\python311\n",
      "  python39     C:\\Users\\priyo\\AppData\\Roaming\\jupyter\\kernels\\python39\n",
      "  venv311      C:\\Users\\priyo\\AppData\\Roaming\\jupyter\\kernels\\venv311\n",
      "  python3      C:\\Users\\priyo\\AppData\\Local\\Programs\\Python\\Python311\\share\\jupyter\\kernels\\python3\n"
     ]
    }
   ],
   "source": [
    "!jupyter kernelspec list"
   ]
  },
  {
   "cell_type": "code",
   "execution_count": 4,
   "id": "2e03b626-1415-469b-b60c-5d1cf865fcbe",
   "metadata": {},
   "outputs": [
    {
     "name": "stdout",
     "output_type": "stream",
     "text": [
      "Requirement already satisfied: pandas in c:\\users\\priyo\\appdata\\local\\programs\\python\\python311\\lib\\site-packages (2.2.3)\n",
      "Requirement already satisfied: numpy>=1.23.2 in c:\\users\\priyo\\appdata\\local\\programs\\python\\python311\\lib\\site-packages (from pandas) (2.2.3)\n",
      "Requirement already satisfied: python-dateutil>=2.8.2 in c:\\users\\priyo\\appdata\\local\\programs\\python\\python311\\lib\\site-packages (from pandas) (2.9.0.post0)\n",
      "Requirement already satisfied: pytz>=2020.1 in c:\\users\\priyo\\appdata\\local\\programs\\python\\python311\\lib\\site-packages (from pandas) (2025.1)\n",
      "Requirement already satisfied: tzdata>=2022.7 in c:\\users\\priyo\\appdata\\local\\programs\\python\\python311\\lib\\site-packages (from pandas) (2025.1)\n",
      "Requirement already satisfied: six>=1.5 in c:\\users\\priyo\\appdata\\local\\programs\\python\\python311\\lib\\site-packages (from python-dateutil>=2.8.2->pandas) (1.17.0)\n"
     ]
    },
    {
     "name": "stderr",
     "output_type": "stream",
     "text": [
      "\n",
      "[notice] A new release of pip is available: 24.0 -> 25.0.1\n",
      "[notice] To update, run: python.exe -m pip install --upgrade pip\n"
     ]
    }
   ],
   "source": [
    "!pip install --upgrade pandas"
   ]
  },
  {
   "cell_type": "code",
   "execution_count": 4,
   "id": "b8aa3a2f-de04-4107-a0e3-497c1e8994d6",
   "metadata": {
    "scrolled": true
   },
   "outputs": [],
   "source": [
    "# !pip install --upgrade --no-cache-dir --force-reinstall pandas==2.2.3"
   ]
  },
  {
   "cell_type": "code",
   "execution_count": 5,
   "id": "57dced31-88f3-4096-a38c-e39e254a6093",
   "metadata": {},
   "outputs": [
    {
     "name": "stdout",
     "output_type": "stream",
     "text": [
      "2.2.3\n"
     ]
    }
   ],
   "source": [
    "import pandas as pd\n",
    "print(pd.__version__)  # Should print 2.2.3 or newer"
   ]
  },
  {
   "cell_type": "code",
   "execution_count": 6,
   "id": "b67748dc-6f13-4137-ae3f-75f26c19f974",
   "metadata": {},
   "outputs": [
    {
     "name": "stdout",
     "output_type": "stream",
     "text": [
      "Python 3.11.9\n"
     ]
    }
   ],
   "source": [
    "!python --version"
   ]
  },
  {
   "cell_type": "code",
   "execution_count": 7,
   "id": "44fe5664-4c92-4e46-8a6a-7578d529efe4",
   "metadata": {
    "scrolled": true
   },
   "outputs": [
    {
     "name": "stdout",
     "output_type": "stream",
     "text": [
      "Collecting git+https://github.com/huggingface/smolagents.git\n",
      "  Cloning https://github.com/huggingface/smolagents.git to c:\\users\\priyo\\appdata\\local\\temp\\pip-req-build-b6q81pzn\n",
      "  Resolved https://github.com/huggingface/smolagents.git to commit 45b2c86857b7f7657daaa74e4d17d347e9e2c4a4\n",
      "  Installing build dependencies: started\n",
      "  Installing build dependencies: finished with status 'done'\n",
      "  Getting requirements to build wheel: started\n",
      "  Getting requirements to build wheel: finished with status 'done'\n",
      "  Preparing metadata (pyproject.toml): started\n",
      "  Preparing metadata (pyproject.toml): finished with status 'done'\n",
      "Requirement already satisfied: gradio in c:\\users\\priyo\\appdata\\local\\programs\\python\\python311\\lib\\site-packages (5.20.1)\n",
      "Requirement already satisfied: markdownify in c:\\users\\priyo\\appdata\\local\\programs\\python\\python311\\lib\\site-packages (1.1.0)\n",
      "Requirement already satisfied: requests in c:\\users\\priyo\\appdata\\local\\programs\\python\\python311\\lib\\site-packages (2.32.3)\n",
      "Requirement already satisfied: duckduckgo_search in c:\\users\\priyo\\appdata\\local\\programs\\python\\python311\\lib\\site-packages (7.5.1)\n",
      "Requirement already satisfied: pandas in c:\\users\\priyo\\appdata\\local\\programs\\python\\python311\\lib\\site-packages (2.2.3)\n",
      "Requirement already satisfied: aiofiles<24.0,>=22.0 in c:\\users\\priyo\\appdata\\local\\programs\\python\\python311\\lib\\site-packages (from gradio) (23.2.1)\n",
      "Requirement already satisfied: anyio<5.0,>=3.0 in c:\\users\\priyo\\appdata\\local\\programs\\python\\python311\\lib\\site-packages (from gradio) (4.8.0)\n",
      "Requirement already satisfied: fastapi<1.0,>=0.115.2 in c:\\users\\priyo\\appdata\\local\\programs\\python\\python311\\lib\\site-packages (from gradio) (0.115.11)\n",
      "Requirement already satisfied: ffmpy in c:\\users\\priyo\\appdata\\local\\programs\\python\\python311\\lib\\site-packages (from gradio) (0.5.0)\n",
      "Requirement already satisfied: gradio-client==1.7.2 in c:\\users\\priyo\\appdata\\local\\programs\\python\\python311\\lib\\site-packages (from gradio) (1.7.2)\n",
      "Requirement already satisfied: groovy~=0.1 in c:\\users\\priyo\\appdata\\local\\programs\\python\\python311\\lib\\site-packages (from gradio) (0.1.2)\n",
      "Requirement already satisfied: httpx>=0.24.1 in c:\\users\\priyo\\appdata\\local\\programs\\python\\python311\\lib\\site-packages (from gradio) (0.28.1)\n",
      "Requirement already satisfied: huggingface-hub>=0.28.1 in c:\\users\\priyo\\appdata\\local\\programs\\python\\python311\\lib\\site-packages (from gradio) (0.29.2)\n",
      "Requirement already satisfied: jinja2<4.0 in c:\\users\\priyo\\appdata\\local\\programs\\python\\python311\\lib\\site-packages (from gradio) (3.1.6)\n",
      "Requirement already satisfied: markupsafe~=2.0 in c:\\users\\priyo\\appdata\\local\\programs\\python\\python311\\lib\\site-packages (from gradio) (2.1.5)\n",
      "Requirement already satisfied: numpy<3.0,>=1.0 in c:\\users\\priyo\\appdata\\local\\programs\\python\\python311\\lib\\site-packages (from gradio) (2.2.3)\n",
      "Requirement already satisfied: orjson~=3.0 in c:\\users\\priyo\\appdata\\local\\programs\\python\\python311\\lib\\site-packages (from gradio) (3.10.15)\n",
      "Requirement already satisfied: packaging in c:\\users\\priyo\\appdata\\local\\programs\\python\\python311\\lib\\site-packages (from gradio) (24.2)\n",
      "Requirement already satisfied: pillow<12.0,>=8.0 in c:\\users\\priyo\\appdata\\local\\programs\\python\\python311\\lib\\site-packages (from gradio) (11.1.0)\n",
      "Requirement already satisfied: pydantic>=2.0 in c:\\users\\priyo\\appdata\\local\\programs\\python\\python311\\lib\\site-packages (from gradio) (2.10.6)\n",
      "Requirement already satisfied: pydub in c:\\users\\priyo\\appdata\\local\\programs\\python\\python311\\lib\\site-packages (from gradio) (0.25.1)\n",
      "Requirement already satisfied: python-multipart>=0.0.18 in c:\\users\\priyo\\appdata\\local\\programs\\python\\python311\\lib\\site-packages (from gradio) (0.0.20)\n",
      "Requirement already satisfied: pyyaml<7.0,>=5.0 in c:\\users\\priyo\\appdata\\local\\programs\\python\\python311\\lib\\site-packages (from gradio) (6.0.2)\n",
      "Requirement already satisfied: ruff>=0.9.3 in c:\\users\\priyo\\appdata\\local\\programs\\python\\python311\\lib\\site-packages (from gradio) (0.9.10)\n",
      "Requirement already satisfied: safehttpx<0.2.0,>=0.1.6 in c:\\users\\priyo\\appdata\\local\\programs\\python\\python311\\lib\\site-packages (from gradio) (0.1.6)\n",
      "Requirement already satisfied: semantic-version~=2.0 in c:\\users\\priyo\\appdata\\local\\programs\\python\\python311\\lib\\site-packages (from gradio) (2.10.0)\n",
      "Requirement already satisfied: starlette<1.0,>=0.40.0 in c:\\users\\priyo\\appdata\\local\\programs\\python\\python311\\lib\\site-packages (from gradio) (0.46.1)\n",
      "Requirement already satisfied: tomlkit<0.14.0,>=0.12.0 in c:\\users\\priyo\\appdata\\local\\programs\\python\\python311\\lib\\site-packages (from gradio) (0.13.2)\n",
      "Requirement already satisfied: typer<1.0,>=0.12 in c:\\users\\priyo\\appdata\\local\\programs\\python\\python311\\lib\\site-packages (from gradio) (0.15.2)\n",
      "Requirement already satisfied: typing-extensions~=4.0 in c:\\users\\priyo\\appdata\\local\\programs\\python\\python311\\lib\\site-packages (from gradio) (4.12.2)\n",
      "Requirement already satisfied: uvicorn>=0.14.0 in c:\\users\\priyo\\appdata\\local\\programs\\python\\python311\\lib\\site-packages (from gradio) (0.34.0)\n",
      "Requirement already satisfied: fsspec in c:\\users\\priyo\\appdata\\local\\programs\\python\\python311\\lib\\site-packages (from gradio-client==1.7.2->gradio) (2025.3.0)\n",
      "Requirement already satisfied: websockets<16.0,>=10.0 in c:\\users\\priyo\\appdata\\local\\programs\\python\\python311\\lib\\site-packages (from gradio-client==1.7.2->gradio) (15.0.1)\n",
      "Requirement already satisfied: rich>=13.9.4 in c:\\users\\priyo\\appdata\\local\\programs\\python\\python311\\lib\\site-packages (from smolagents==1.12.0.dev0) (13.9.4)\n",
      "Requirement already satisfied: python-dotenv in c:\\users\\priyo\\appdata\\local\\programs\\python\\python311\\lib\\site-packages (from smolagents==1.12.0.dev0) (1.0.1)\n",
      "Requirement already satisfied: beautifulsoup4<5,>=4.9 in c:\\users\\priyo\\appdata\\local\\programs\\python\\python311\\lib\\site-packages (from markdownify) (4.13.3)\n",
      "Requirement already satisfied: six<2,>=1.15 in c:\\users\\priyo\\appdata\\local\\programs\\python\\python311\\lib\\site-packages (from markdownify) (1.17.0)\n",
      "Requirement already satisfied: charset-normalizer<4,>=2 in c:\\users\\priyo\\appdata\\local\\programs\\python\\python311\\lib\\site-packages (from requests) (3.4.1)\n",
      "Requirement already satisfied: idna<4,>=2.5 in c:\\users\\priyo\\appdata\\local\\programs\\python\\python311\\lib\\site-packages (from requests) (3.10)\n",
      "Requirement already satisfied: urllib3<3,>=1.21.1 in c:\\users\\priyo\\appdata\\local\\programs\\python\\python311\\lib\\site-packages (from requests) (2.3.0)\n",
      "Requirement already satisfied: certifi>=2017.4.17 in c:\\users\\priyo\\appdata\\local\\programs\\python\\python311\\lib\\site-packages (from requests) (2025.1.31)\n",
      "Requirement already satisfied: click>=8.1.8 in c:\\users\\priyo\\appdata\\local\\programs\\python\\python311\\lib\\site-packages (from duckduckgo_search) (8.1.8)\n",
      "Requirement already satisfied: primp>=0.14.0 in c:\\users\\priyo\\appdata\\local\\programs\\python\\python311\\lib\\site-packages (from duckduckgo_search) (0.14.0)\n",
      "Requirement already satisfied: lxml>=5.3.0 in c:\\users\\priyo\\appdata\\local\\programs\\python\\python311\\lib\\site-packages (from duckduckgo_search) (5.3.1)\n",
      "Requirement already satisfied: python-dateutil>=2.8.2 in c:\\users\\priyo\\appdata\\local\\programs\\python\\python311\\lib\\site-packages (from pandas) (2.9.0.post0)\n",
      "Requirement already satisfied: pytz>=2020.1 in c:\\users\\priyo\\appdata\\local\\programs\\python\\python311\\lib\\site-packages (from pandas) (2025.1)\n",
      "Requirement already satisfied: tzdata>=2022.7 in c:\\users\\priyo\\appdata\\local\\programs\\python\\python311\\lib\\site-packages (from pandas) (2025.1)\n",
      "Requirement already satisfied: sniffio>=1.1 in c:\\users\\priyo\\appdata\\local\\programs\\python\\python311\\lib\\site-packages (from anyio<5.0,>=3.0->gradio) (1.3.1)\n",
      "Requirement already satisfied: soupsieve>1.2 in c:\\users\\priyo\\appdata\\local\\programs\\python\\python311\\lib\\site-packages (from beautifulsoup4<5,>=4.9->markdownify) (2.6)\n",
      "Requirement already satisfied: colorama in c:\\users\\priyo\\appdata\\local\\programs\\python\\python311\\lib\\site-packages (from click>=8.1.8->duckduckgo_search) (0.4.6)\n",
      "Requirement already satisfied: httpcore==1.* in c:\\users\\priyo\\appdata\\local\\programs\\python\\python311\\lib\\site-packages (from httpx>=0.24.1->gradio) (1.0.7)\n",
      "Requirement already satisfied: h11<0.15,>=0.13 in c:\\users\\priyo\\appdata\\local\\programs\\python\\python311\\lib\\site-packages (from httpcore==1.*->httpx>=0.24.1->gradio) (0.14.0)\n",
      "Requirement already satisfied: filelock in c:\\users\\priyo\\appdata\\local\\programs\\python\\python311\\lib\\site-packages (from huggingface-hub>=0.28.1->gradio) (3.17.0)\n",
      "Requirement already satisfied: tqdm>=4.42.1 in c:\\users\\priyo\\appdata\\local\\programs\\python\\python311\\lib\\site-packages (from huggingface-hub>=0.28.1->gradio) (4.67.1)\n",
      "Requirement already satisfied: annotated-types>=0.6.0 in c:\\users\\priyo\\appdata\\local\\programs\\python\\python311\\lib\\site-packages (from pydantic>=2.0->gradio) (0.7.0)\n",
      "Requirement already satisfied: pydantic-core==2.27.2 in c:\\users\\priyo\\appdata\\local\\programs\\python\\python311\\lib\\site-packages (from pydantic>=2.0->gradio) (2.27.2)\n",
      "Requirement already satisfied: markdown-it-py>=2.2.0 in c:\\users\\priyo\\appdata\\local\\programs\\python\\python311\\lib\\site-packages (from rich>=13.9.4->smolagents==1.12.0.dev0) (3.0.0)\n",
      "Requirement already satisfied: pygments<3.0.0,>=2.13.0 in c:\\users\\priyo\\appdata\\local\\programs\\python\\python311\\lib\\site-packages (from rich>=13.9.4->smolagents==1.12.0.dev0) (2.19.1)\n",
      "Requirement already satisfied: shellingham>=1.3.0 in c:\\users\\priyo\\appdata\\local\\programs\\python\\python311\\lib\\site-packages (from typer<1.0,>=0.12->gradio) (1.5.4)\n",
      "Requirement already satisfied: mdurl~=0.1 in c:\\users\\priyo\\appdata\\local\\programs\\python\\python311\\lib\\site-packages (from markdown-it-py>=2.2.0->rich>=13.9.4->smolagents==1.12.0.dev0) (0.1.2)\n",
      "Building wheels for collected packages: smolagents\n",
      "  Building wheel for smolagents (pyproject.toml): started\n",
      "  Building wheel for smolagents (pyproject.toml): finished with status 'done'\n",
      "  Created wheel for smolagents: filename=smolagents-1.12.0.dev0-py3-none-any.whl size=105964 sha256=26c4af4943be470b7c3099d9345ae278b401f06efafb8bcac567d8dc8e41b69b\n",
      "  Stored in directory: C:\\Users\\priyo\\AppData\\Local\\Temp\\pip-ephem-wheel-cache-1_8__zi2\\wheels\\df\\d1\\c5\\246a60ff893041c0643adaa4d40c8000990cfae134cc28896e\n",
      "Successfully built smolagents\n",
      "Installing collected packages: smolagents\n",
      "  Attempting uninstall: smolagents\n",
      "    Found existing installation: smolagents 1.11.0.dev0\n",
      "    Uninstalling smolagents-1.11.0.dev0:\n",
      "      Successfully uninstalled smolagents-1.11.0.dev0\n",
      "Successfully installed smolagents-1.12.0.dev0\n"
     ]
    },
    {
     "name": "stderr",
     "output_type": "stream",
     "text": [
      "  Running command git clone --filter=blob:none --quiet https://github.com/huggingface/smolagents.git 'C:\\Users\\priyo\\AppData\\Local\\Temp\\pip-req-build-b6q81pzn'\n",
      "\n",
      "[notice] A new release of pip is available: 24.0 -> 25.0.1\n",
      "[notice] To update, run: python.exe -m pip install --upgrade pip\n"
     ]
    }
   ],
   "source": [
    "!pip install gradio smolagents[gradio] markdownify requests duckduckgo_search pandas git+https://github.com/huggingface/smolagents.git"
   ]
  },
  {
   "cell_type": "code",
   "execution_count": 8,
   "id": "87863d55-ac71-4881-909a-abd3932f3fbd",
   "metadata": {},
   "outputs": [
    {
     "name": "stderr",
     "output_type": "stream",
     "text": [
      "C:\\Users\\priyo\\Downloads\\AI_Agent\\venv311\\Lib\\site-packages\\tqdm\\auto.py:21: TqdmWarning: IProgress not found. Please update jupyter and ipywidgets. See https://ipywidgets.readthedocs.io/en/stable/user_install.html\n",
      "  from .autonotebook import tqdm as notebook_tqdm\n",
      "Python-dotenv could not parse statement starting at line 2\n"
     ]
    }
   ],
   "source": [
    "from smolagents import CodeAgent\n",
    "from tools.final_answer import FinalAnswerTool\n",
    "import requests"
   ]
  },
  {
   "cell_type": "code",
   "execution_count": 9,
   "id": "9832d261-0d1f-4a66-834c-b56b4e53eaff",
   "metadata": {},
   "outputs": [],
   "source": [
    "# %run app.py\n",
    "# Run in CMD"
   ]
  },
  {
   "cell_type": "code",
   "execution_count": 9,
   "id": "89be55d7-75c0-4b08-bf2c-a1e7808e2a95",
   "metadata": {},
   "outputs": [
    {
     "name": "stdout",
     "output_type": "stream",
     "text": [
      "Requirement already satisfied: requests in c:\\users\\priyo\\appdata\\local\\programs\\python\\python311\\lib\\site-packages (2.32.3)\n",
      "Requirement already satisfied: beautifulsoup4 in c:\\users\\priyo\\appdata\\local\\programs\\python\\python311\\lib\\site-packages (4.13.3)\n",
      "Requirement already satisfied: charset-normalizer<4,>=2 in c:\\users\\priyo\\appdata\\local\\programs\\python\\python311\\lib\\site-packages (from requests) (3.4.1)\n",
      "Requirement already satisfied: idna<4,>=2.5 in c:\\users\\priyo\\appdata\\local\\programs\\python\\python311\\lib\\site-packages (from requests) (3.10)\n",
      "Requirement already satisfied: urllib3<3,>=1.21.1 in c:\\users\\priyo\\appdata\\local\\programs\\python\\python311\\lib\\site-packages (from requests) (2.3.0)\n",
      "Requirement already satisfied: certifi>=2017.4.17 in c:\\users\\priyo\\appdata\\local\\programs\\python\\python311\\lib\\site-packages (from requests) (2025.1.31)\n",
      "Requirement already satisfied: soupsieve>1.2 in c:\\users\\priyo\\appdata\\local\\programs\\python\\python311\\lib\\site-packages (from beautifulsoup4) (2.6)\n",
      "Requirement already satisfied: typing-extensions>=4.0.0 in c:\\users\\priyo\\appdata\\local\\programs\\python\\python311\\lib\\site-packages (from beautifulsoup4) (4.12.2)\n"
     ]
    },
    {
     "name": "stderr",
     "output_type": "stream",
     "text": [
      "\n",
      "[notice] A new release of pip is available: 24.0 -> 25.0.1\n",
      "[notice] To update, run: python.exe -m pip install --upgrade pip\n"
     ]
    }
   ],
   "source": [
    "!pip install requests beautifulsoup4"
   ]
  },
  {
   "cell_type": "code",
   "execution_count": 10,
   "id": "2dcfc710-dd92-4023-8c8b-31cdee7d593f",
   "metadata": {},
   "outputs": [
    {
     "name": "stdout",
     "output_type": "stream",
     "text": [
      "Collecting selenium\n",
      "  Downloading selenium-4.29.0-py3-none-any.whl.metadata (7.1 kB)\n",
      "Collecting webdriver-manager\n",
      "  Downloading webdriver_manager-4.0.2-py2.py3-none-any.whl.metadata (12 kB)\n",
      "Requirement already satisfied: urllib3<3,>=1.26 in c:\\users\\priyo\\appdata\\local\\programs\\python\\python311\\lib\\site-packages (from urllib3[socks]<3,>=1.26->selenium) (2.3.0)\n",
      "Collecting trio~=0.17 (from selenium)\n",
      "  Downloading trio-0.29.0-py3-none-any.whl.metadata (8.5 kB)\n",
      "Collecting trio-websocket~=0.9 (from selenium)\n",
      "  Downloading trio_websocket-0.12.2-py3-none-any.whl.metadata (5.1 kB)\n",
      "Requirement already satisfied: certifi>=2021.10.8 in c:\\users\\priyo\\appdata\\local\\programs\\python\\python311\\lib\\site-packages (from selenium) (2025.1.31)\n",
      "Requirement already satisfied: typing_extensions~=4.9 in c:\\users\\priyo\\appdata\\local\\programs\\python\\python311\\lib\\site-packages (from selenium) (4.12.2)\n",
      "Collecting websocket-client~=1.8 (from selenium)\n",
      "  Using cached websocket_client-1.8.0-py3-none-any.whl.metadata (8.0 kB)\n",
      "Requirement already satisfied: requests in c:\\users\\priyo\\appdata\\local\\programs\\python\\python311\\lib\\site-packages (from webdriver-manager) (2.32.3)\n",
      "Requirement already satisfied: python-dotenv in c:\\users\\priyo\\appdata\\local\\programs\\python\\python311\\lib\\site-packages (from webdriver-manager) (1.0.1)\n",
      "Requirement already satisfied: packaging in c:\\users\\priyo\\appdata\\local\\programs\\python\\python311\\lib\\site-packages (from webdriver-manager) (24.2)\n",
      "Collecting attrs>=23.2.0 (from trio~=0.17->selenium)\n",
      "  Downloading attrs-25.3.0-py3-none-any.whl.metadata (10 kB)\n",
      "Collecting sortedcontainers (from trio~=0.17->selenium)\n",
      "  Downloading sortedcontainers-2.4.0-py2.py3-none-any.whl.metadata (10 kB)\n",
      "Requirement already satisfied: idna in c:\\users\\priyo\\appdata\\local\\programs\\python\\python311\\lib\\site-packages (from trio~=0.17->selenium) (3.10)\n",
      "Collecting outcome (from trio~=0.17->selenium)\n",
      "  Downloading outcome-1.3.0.post0-py2.py3-none-any.whl.metadata (2.6 kB)\n",
      "Requirement already satisfied: sniffio>=1.3.0 in c:\\users\\priyo\\appdata\\local\\programs\\python\\python311\\lib\\site-packages (from trio~=0.17->selenium) (1.3.1)\n",
      "Collecting cffi>=1.14 (from trio~=0.17->selenium)\n",
      "  Downloading cffi-1.17.1-cp311-cp311-win_amd64.whl.metadata (1.6 kB)\n",
      "Collecting wsproto>=0.14 (from trio-websocket~=0.9->selenium)\n",
      "  Downloading wsproto-1.2.0-py3-none-any.whl.metadata (5.6 kB)\n",
      "Collecting pysocks!=1.5.7,<2.0,>=1.5.6 (from urllib3[socks]<3,>=1.26->selenium)\n",
      "  Downloading PySocks-1.7.1-py3-none-any.whl.metadata (13 kB)\n",
      "Requirement already satisfied: charset-normalizer<4,>=2 in c:\\users\\priyo\\appdata\\local\\programs\\python\\python311\\lib\\site-packages (from requests->webdriver-manager) (3.4.1)\n",
      "Collecting pycparser (from cffi>=1.14->trio~=0.17->selenium)\n",
      "  Using cached pycparser-2.22-py3-none-any.whl.metadata (943 bytes)\n",
      "Requirement already satisfied: h11<1,>=0.9.0 in c:\\users\\priyo\\appdata\\local\\programs\\python\\python311\\lib\\site-packages (from wsproto>=0.14->trio-websocket~=0.9->selenium) (0.14.0)\n",
      "Downloading selenium-4.29.0-py3-none-any.whl (9.5 MB)\n",
      "   ---------------------------------------- 0.0/9.5 MB ? eta -:--:--\n",
      "   - -------------------------------------- 0.3/9.5 MB 5.7 MB/s eta 0:00:02\n",
      "   --- ------------------------------------ 0.8/9.5 MB 7.4 MB/s eta 0:00:02\n",
      "   ------ --------------------------------- 1.6/9.5 MB 11.7 MB/s eta 0:00:01\n",
      "   ---------- ----------------------------- 2.5/9.5 MB 12.5 MB/s eta 0:00:01\n",
      "   --------------- ------------------------ 3.6/9.5 MB 13.5 MB/s eta 0:00:01\n",
      "   ------------------ --------------------- 4.4/9.5 MB 14.0 MB/s eta 0:00:01\n",
      "   --------------------- ------------------ 5.2/9.5 MB 14.4 MB/s eta 0:00:01\n",
      "   ------------------------- -------------- 6.0/9.5 MB 14.7 MB/s eta 0:00:01\n",
      "   ---------------------------- ----------- 6.8/9.5 MB 14.9 MB/s eta 0:00:01\n",
      "   -------------------------------- ------- 7.7/9.5 MB 15.3 MB/s eta 0:00:01\n",
      "   ----------------------------------- ---- 8.4/9.5 MB 15.3 MB/s eta 0:00:01\n",
      "   -------------------------------------- - 9.2/9.5 MB 15.4 MB/s eta 0:00:01\n",
      "   ---------------------------------------  9.5/9.5 MB 15.2 MB/s eta 0:00:01\n",
      "   ---------------------------------------- 9.5/9.5 MB 14.5 MB/s eta 0:00:00\n",
      "Downloading webdriver_manager-4.0.2-py2.py3-none-any.whl (27 kB)\n",
      "Downloading trio-0.29.0-py3-none-any.whl (492 kB)\n",
      "   ---------------------------------------- 0.0/492.9 kB ? eta -:--:--\n",
      "   --------------------------------------  491.5/492.9 kB 15.0 MB/s eta 0:00:01\n",
      "   --------------------------------------- 492.9/492.9 kB 15.1 MB/s eta 0:00:00\n",
      "Downloading trio_websocket-0.12.2-py3-none-any.whl (21 kB)\n",
      "Using cached websocket_client-1.8.0-py3-none-any.whl (58 kB)\n",
      "Downloading attrs-25.3.0-py3-none-any.whl (63 kB)\n",
      "   ---------------------------------------- 0.0/63.8 kB ? eta -:--:--\n",
      "   ---------------------------------------- 63.8/63.8 kB ? eta 0:00:00\n",
      "Downloading cffi-1.17.1-cp311-cp311-win_amd64.whl (181 kB)\n",
      "   ---------------------------------------- 0.0/181.4 kB ? eta -:--:--\n",
      "   ---------------------------------------- 181.4/181.4 kB ? eta 0:00:00\n",
      "Downloading outcome-1.3.0.post0-py2.py3-none-any.whl (10 kB)\n",
      "Downloading PySocks-1.7.1-py3-none-any.whl (16 kB)\n",
      "Downloading wsproto-1.2.0-py3-none-any.whl (24 kB)\n",
      "Downloading sortedcontainers-2.4.0-py2.py3-none-any.whl (29 kB)\n",
      "Using cached pycparser-2.22-py3-none-any.whl (117 kB)\n",
      "Installing collected packages: sortedcontainers, wsproto, websocket-client, pysocks, pycparser, attrs, webdriver-manager, outcome, cffi, trio, trio-websocket, selenium\n",
      "Successfully installed attrs-25.3.0 cffi-1.17.1 outcome-1.3.0.post0 pycparser-2.22 pysocks-1.7.1 selenium-4.29.0 sortedcontainers-2.4.0 trio-0.29.0 trio-websocket-0.12.2 webdriver-manager-4.0.2 websocket-client-1.8.0 wsproto-1.2.0\n"
     ]
    },
    {
     "name": "stderr",
     "output_type": "stream",
     "text": [
      "\n",
      "[notice] A new release of pip is available: 24.0 -> 25.0.1\n",
      "[notice] To update, run: python.exe -m pip install --upgrade pip\n"
     ]
    }
   ],
   "source": [
    "!pip install selenium webdriver-manager"
   ]
  }
 ],
 "metadata": {
  "kernelspec": {
   "display_name": "Python 3.11 (AI Agent)",
   "language": "python",
   "name": "python311"
  },
  "language_info": {
   "codemirror_mode": {
    "name": "ipython",
    "version": 3
   },
   "file_extension": ".py",
   "mimetype": "text/x-python",
   "name": "python",
   "nbconvert_exporter": "python",
   "pygments_lexer": "ipython3",
   "version": "3.11.9"
  }
 },
 "nbformat": 4,
 "nbformat_minor": 5
}
